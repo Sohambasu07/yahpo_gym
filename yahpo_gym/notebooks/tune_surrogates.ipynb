{
 "cells": [
  {
   "cell_type": "code",
   "execution_count": null,
   "source": [
    "from yahpo_train.cont_normalization import ContNormalization\r\n",
    "from yahpo_train.model  import *\r\n",
    "from yahpo_gym import cfg\r\n",
    "from yahpo_train.metrics import *\r\n",
    "from yahpo_gym.benchmarks import lcbench\r\n",
    "\r\n",
    "import torch\r\n",
    "import optuna\r\n",
    "from optuna.integration.fastaiv2 import FastAIV2PruningCallback\r\n",
    "\r\n",
    "\r\n",
    "# 1. Define an objective function to be maximized.\r\n",
    "def objective(trial):\r\n",
    "\r\n",
    "    # 2. Suggest values of the hyperparameters using a trial object.\r\n",
    "    n_layers  = trial.suggest_int('n_layers', 1, 3)\r\n",
    "    n_deep    = trial.suggest_categorical('n_deep', [128, 256, 512, 1024])\r\n",
    "    arch      = trial.suggest_categorical('arch', ['cone', 'block'])\r\n",
    "    lr = trial.suggest_float(\"lr\", 1e-5, 1e-1, log=True)\r\n",
    "    deeper = trial.suggest_categorical('deeper', [[512,256,128], []])\r\n",
    "    \r\n",
    "    layers = [n_deep for _ in range(n_layers)]\r\n",
    "    if arch == 'cone':\r\n",
    "        layers = [layers[i] * (2 ** -i) for i in range(n_layers)]\r\n",
    "    f = FFSurrogateModel(dls, layers=layers, deeper = deeper)\r\n",
    "    l = SurrogateTabularLearner(dls, f, loss_func=nn.MSELoss(reduction='mean'), metrics=nn.MSELoss)\r\n",
    "    l.metrics = [AvgTfedMetric(mae),  AvgTfedMetric(r2), AvgTfedMetric(spearman)]\r\n",
    "    l.add_cb(MixHandler)\r\n",
    "    l.add_cb(EarlyStoppingCallback(patience=3))\r\n",
    "    l.add_cb(FastAIV2PruningCallback(trial))\r\n",
    "\r\n",
    "    l.fit_flat_cos(5, lr)\r\n",
    "    for p in l.model.wide.parameters():\r\n",
    "        p.requires_grad = False\r\n",
    "    l.fit_flat_cos(5, lr)\r\n",
    "    l.final_record[1]\r\n",
    "    return accuracy\r\n",
    "\r\n",
    "# 3. Create a study object and optimize the objective function.\r\n",
    "study = optuna.create_study(direction='minimize')\r\n",
    "study.optimize(objective, n_trials=100)"
   ],
   "outputs": [],
   "metadata": {}
  }
 ],
 "metadata": {
  "orig_nbformat": 4,
  "language_info": {
   "name": "python",
   "version": "3.9.5"
  },
  "kernelspec": {
   "name": "python3",
   "display_name": "Python 3.9.5 64-bit (conda)"
  },
  "interpreter": {
   "hash": "935079f3ab4b06ec76910fd5af9cfadee87e8a756fe17d7789065f69c1782d29"
  }
 },
 "nbformat": 4,
 "nbformat_minor": 2
}