{
    "cells": [
        {
            "cell_type": "code",
            "execution_count": 14,
            "source": [
                "%load_ext autoreload\n",
                "%autoreload 2\n",
                "from yahpo_train.cont_normalization import ContNormalization\n",
                "from yahpo_train.model  import *\n",
                "from yahpo_gym import cfg\n",
                "from yahpo_gym.benchmarks import lcbench"
            ],
            "outputs": [
                {
                    "output_type": "stream",
                    "name": "stdout",
                    "text": [
                        "The autoreload extension is already loaded. To reload it, use:\n",
                        "  %reload_ext autoreload\n"
                    ]
                }
            ],
            "metadata": {}
        },
        {
            "cell_type": "code",
            "execution_count": 11,
            "source": [
                "cfg = cfg(\"lcbench\")\n",
                "dls = dl_from_config(cfg)"
            ],
            "outputs": [],
            "metadata": {}
        },
        {
            "cell_type": "code",
            "execution_count": 16,
            "source": [
                "f = FFSurrogateModel(dls, layers=[512,512], deeper = [], ps = [0., 0.])"
            ],
            "outputs": [],
            "metadata": {}
        },
        {
            "cell_type": "code",
            "execution_count": 17,
            "source": [
                "l = SurrogateTabularLearner(dls, f, loss_func=nn.MSELoss(reduction='mean'), metrics=nn.MSELoss)\n",
                "l.metrics = AvgTfedMetric(mean_absolute_error)"
            ],
            "outputs": [],
            "metadata": {}
        },
        {
            "cell_type": "code",
            "execution_count": 18,
            "source": [
                "l.lr_find(num_it=500)"
            ],
            "outputs": [
                {
                    "output_type": "display_data",
                    "data": {
                        "text/plain": [
                            "<IPython.core.display.HTML object>"
                        ],
                        "text/html": []
                    },
                    "metadata": {}
                },
                {
                    "output_type": "stream",
                    "name": "stderr",
                    "text": [
                        "/home/flo/miniconda3/envs/yahpo/lib/python3.9/site-packages/fastai/callback/schedule.py:270: UserWarning: color is redundantly defined by the 'color' keyword argument and the fmt string \"ro\" (-> color='r'). The keyword argument will take precedence.\n",
                        "  ax.plot(val, idx, 'ro', label=nm, c=color)\n"
                    ]
                },
                {
                    "output_type": "execute_result",
                    "data": {
                        "text/plain": [
                            "SuggestedLRs(valley=0.000237684027524665)"
                        ]
                    },
                    "metadata": {},
                    "execution_count": 18
                },
                {
                    "output_type": "display_data",
                    "data": {
                        "text/plain": [
                            "<Figure size 432x288 with 1 Axes>"
                        ],
                        "image/png": "[encoded data removed]"
                    },
                    "metadata": {
                        "needs_background": "light"
                    }
                }
            ],
            "metadata": {}
        },
        {
            "cell_type": "code",
            "execution_count": 19,
            "source": [
                "l.fit_one_cycle(10, 1e-4)"
            ],
            "outputs": [
                {
                    "output_type": "display_data",
                    "data": {
                        "text/plain": [
                            "<IPython.core.display.HTML object>"
                        ],
                        "text/html": [
                            "\n",
                            "    <div>\n",
                            "        <style>\n",
                            "            /* Turns off some styling */\n",
                            "            progress {\n",
                            "                /* gets rid of default border in Firefox and Opera. */\n",
                            "                border: none;\n",
                            "                /* Needs to be in here for Safari polyfill so background images work as expected. */\n",
                            "                background-size: auto;\n",
                            "            }\n",
                            "            .progress-bar-interrupted, .progress-bar-interrupted::-webkit-progress-bar {\n",
                            "                background: #F44336;\n",
                            "            }\n",
                            "        </style>\n",
                            "      <progress value='2' class='' max='10' style='width:300px; height:20px; vertical-align: middle;'></progress>\n",
                            "      20.00% [2/10 03:32<14:11]\n",
                            "    </div>\n",
                            "    \n",
                            "<table border=\"1\" class=\"dataframe\">\n",
                            "  <thead>\n",
                            "    <tr style=\"text-align: left;\">\n",
                            "      <th>epoch</th>\n",
                            "      <th>train_loss</th>\n",
                            "      <th>valid_loss</th>\n",
                            "      <th>mean_absolute_error</th>\n",
                            "      <th>time</th>\n",
                            "    </tr>\n",
                            "  </thead>\n",
                            "  <tbody>\n",
                            "    <tr>\n",
                            "      <td>0</td>\n",
                            "      <td>0.011124</td>\n",
                            "      <td>0.010912</td>\n",
                            "      <td>[1.45517586e+02 1.04445824e+01 2.49805254e-01 9.12827253e-02\n",
                            " 1.76862448e-01 9.15963592e-02]</td>\n",
                            "      <td>01:47</td>\n",
                            "    </tr>\n",
                            "    <tr>\n",
                            "      <td>1</td>\n",
                            "      <td>0.005472</td>\n",
                            "      <td>0.005403</td>\n",
                            "      <td>[7.60966568e+01 7.32387117e+00 2.05150767e-01 6.02881635e-02\n",
                            " 1.24366609e-01 6.05673191e-02]</td>\n",
                            "      <td>01:45</td>\n",
                            "    </tr>\n",
                            "  </tbody>\n",
                            "</table><p>\n",
                            "\n",
                            "    <div>\n",
                            "        <style>\n",
                            "            /* Turns off some styling */\n",
                            "            progress {\n",
                            "                /* gets rid of default border in Firefox and Opera. */\n",
                            "                border: none;\n",
                            "                /* Needs to be in here for Safari polyfill so background images work as expected. */\n",
                            "                background-size: auto;\n",
                            "            }\n",
                            "            .progress-bar-interrupted, .progress-bar-interrupted::-webkit-progress-bar {\n",
                            "                background: #F44336;\n",
                            "            }\n",
                            "        </style>\n",
                            "      <progress value='0' class='' max='3208' style='width:300px; height:20px; vertical-align: middle;'></progress>\n",
                            "      0.00% [0/3208 00:00<00:00]\n",
                            "    </div>\n",
                            "    "
                        ]
                    },
                    "metadata": {}
                }
            ],
            "metadata": {}
        },
        {
            "cell_type": "code",
            "execution_count": 9,
            "source": [
                "l.recorder.plot_loss()\n",
                "l.fit_one_cycle(1, 1e-5)"
            ],
            "outputs": [
                {
                    "output_type": "display_data",
                    "data": {
                        "text/plain": [
                            "<IPython.core.display.HTML object>"
                        ],
                        "text/html": [
                            "<table border=\"1\" class=\"dataframe\">\n",
                            "  <thead>\n",
                            "    <tr style=\"text-align: left;\">\n",
                            "      <th>epoch</th>\n",
                            "      <th>train_loss</th>\n",
                            "      <th>valid_loss</th>\n",
                            "      <th>mean_absolute_error</th>\n",
                            "      <th>time</th>\n",
                            "    </tr>\n",
                            "  </thead>\n",
                            "  <tbody>\n",
                            "    <tr>\n",
                            "      <td>0</td>\n",
                            "      <td>0.002770</td>\n",
                            "      <td>0.002792</td>\n",
                            "      <td>[5.94913669e+01 5.05835613e+00 2.06943109e-01 4.02316429e-02\n",
                            " 1.49938111e-01 3.99589922e-02]</td>\n",
                            "      <td>02:22</td>\n",
                            "    </tr>\n",
                            "  </tbody>\n",
                            "</table>"
                        ]
                    },
                    "metadata": {}
                },
                {
                    "output_type": "display_data",
                    "data": {
                        "text/plain": [
                            "<Figure size 432x288 with 1 Axes>"
                        ],
                        "image/png": "[encoded data removed]"
                    },
                    "metadata": {
                        "needs_background": "light"
                    }
                }
            ],
            "metadata": {}
        },
        {
            "cell_type": "code",
            "execution_count": 13,
            "source": [
                "import pandas as pd\n",
                "pd.read_csv(cfg.get_path(\"dataset\"))"
            ],
            "outputs": [
                {
                    "output_type": "execute_result",
                    "data": {
                        "text/plain": [
                            "         OpenML_task_id  epoch  batch_size  learning_rate  momentum  \\\n",
                            "0                168868      1          71       0.001824  0.213252   \n",
                            "1                168868      2          71       0.001824  0.213252   \n",
                            "2                168868      3          71       0.001824  0.213252   \n",
                            "3                168868      4          71       0.001824  0.213252   \n",
                            "4                168868      5          71       0.001824  0.213252   \n",
                            "...                 ...    ...         ...            ...       ...   \n",
                            "3639995          168331     48          57       0.093697  0.281682   \n",
                            "3639996          168331     49          57       0.093697  0.281682   \n",
                            "3639997          168331     50          57       0.093697  0.281682   \n",
                            "3639998          168331     51          57       0.093697  0.281682   \n",
                            "3639999          168331     52          57       0.093697  0.281682   \n",
                            "\n",
                            "         weight_decay  num_layers  max_units  max_dropout        time  \\\n",
                            "0            0.020473           3        293     0.025926    0.000196   \n",
                            "1            0.020473           3        293     0.025926    3.634039   \n",
                            "2            0.020473           3        293     0.025926    7.946397   \n",
                            "3            0.020473           3        293     0.025926   12.640803   \n",
                            "4            0.020473           3        293     0.025926   17.290935   \n",
                            "...               ...         ...        ...          ...         ...   \n",
                            "3639995      0.052186           4        408     0.404549  336.501526   \n",
                            "3639996      0.052186           4        408     0.404549  346.371667   \n",
                            "3639997      0.052186           4        408     0.404549  356.345553   \n",
                            "3639998      0.052186           4        408     0.404549  366.155742   \n",
                            "3639999      0.052186           4        408     0.404549  376.070106   \n",
                            "\n",
                            "         val_accuracy  val_cross_entropy  val_balanced_accuracy  \\\n",
                            "0            3.374197           0.737074               0.469640   \n",
                            "1           94.489410           0.494362               0.945047   \n",
                            "2           96.096169           0.331957               0.931356   \n",
                            "3           96.601997           0.248542               0.928884   \n",
                            "4           96.721016           0.208148               0.932854   \n",
                            "...               ...                ...                    ...   \n",
                            "3639995     39.385712           1.672090               0.402051   \n",
                            "3639996     39.354687           1.673128               0.398701   \n",
                            "3639997     39.308151           1.672856               0.400183   \n",
                            "3639998     39.300396           1.672737               0.400656   \n",
                            "3639999     39.277126           1.672853               0.400220   \n",
                            "\n",
                            "         test_cross_entropy  test_balanced_accuracy  \n",
                            "0                  0.713175                0.465490  \n",
                            "1                  0.574517                0.938134  \n",
                            "2                  0.483411                0.932786  \n",
                            "3                  0.434955                0.930939  \n",
                            "4                  0.410998                0.929264  \n",
                            "...                     ...                     ...  \n",
                            "3639995            2.151607                0.394071  \n",
                            "3639996            2.152769                0.395212  \n",
                            "3639997            2.152560                0.394068  \n",
                            "3639998            2.152558                0.393556  \n",
                            "3639999            2.152586                0.393956  \n",
                            "\n",
                            "[3640000 rows x 15 columns]"
                        ],
                        "text/html": [
                            "<div>\n",
                            "<style scoped>\n",
                            "    .dataframe tbody tr th:only-of-type {\n",
                            "        vertical-align: middle;\n",
                            "    }\n",
                            "\n",
                            "    .dataframe tbody tr th {\n",
                            "        vertical-align: top;\n",
                            "    }\n",
                            "\n",
                            "    .dataframe thead th {\n",
                            "        text-align: right;\n",
                            "    }\n",
                            "</style>\n",
                            "<table border=\"1\" class=\"dataframe\">\n",
                            "  <thead>\n",
                            "    <tr style=\"text-align: right;\">\n",
                            "      <th></th>\n",
                            "      <th>OpenML_task_id</th>\n",
                            "      <th>epoch</th>\n",
                            "      <th>batch_size</th>\n",
                            "      <th>learning_rate</th>\n",
                            "      <th>momentum</th>\n",
                            "      <th>weight_decay</th>\n",
                            "      <th>num_layers</th>\n",
                            "      <th>max_units</th>\n",
                            "      <th>max_dropout</th>\n",
                            "      <th>time</th>\n",
                            "      <th>val_accuracy</th>\n",
                            "      <th>val_cross_entropy</th>\n",
                            "      <th>val_balanced_accuracy</th>\n",
                            "      <th>test_cross_entropy</th>\n",
                            "      <th>test_balanced_accuracy</th>\n",
                            "    </tr>\n",
                            "  </thead>\n",
                            "  <tbody>\n",
                            "    <tr>\n",
                            "      <th>0</th>\n",
                            "      <td>168868</td>\n",
                            "      <td>1</td>\n",
                            "      <td>71</td>\n",
                            "      <td>0.001824</td>\n",
                            "      <td>0.213252</td>\n",
                            "      <td>0.020473</td>\n",
                            "      <td>3</td>\n",
                            "      <td>293</td>\n",
                            "      <td>0.025926</td>\n",
                            "      <td>0.000196</td>\n",
                            "      <td>3.374197</td>\n",
                            "      <td>0.737074</td>\n",
                            "      <td>0.469640</td>\n",
                            "      <td>0.713175</td>\n",
                            "      <td>0.465490</td>\n",
                            "    </tr>\n",
                            "    <tr>\n",
                            "      <th>1</th>\n",
                            "      <td>168868</td>\n",
                            "      <td>2</td>\n",
                            "      <td>71</td>\n",
                            "      <td>0.001824</td>\n",
                            "      <td>0.213252</td>\n",
                            "      <td>0.020473</td>\n",
                            "      <td>3</td>\n",
                            "      <td>293</td>\n",
                            "      <td>0.025926</td>\n",
                            "      <td>3.634039</td>\n",
                            "      <td>94.489410</td>\n",
                            "      <td>0.494362</td>\n",
                            "      <td>0.945047</td>\n",
                            "      <td>0.574517</td>\n",
                            "      <td>0.938134</td>\n",
                            "    </tr>\n",
                            "    <tr>\n",
                            "      <th>2</th>\n",
                            "      <td>168868</td>\n",
                            "      <td>3</td>\n",
                            "      <td>71</td>\n",
                            "      <td>0.001824</td>\n",
                            "      <td>0.213252</td>\n",
                            "      <td>0.020473</td>\n",
                            "      <td>3</td>\n",
                            "      <td>293</td>\n",
                            "      <td>0.025926</td>\n",
                            "      <td>7.946397</td>\n",
                            "      <td>96.096169</td>\n",
                            "      <td>0.331957</td>\n",
                            "      <td>0.931356</td>\n",
                            "      <td>0.483411</td>\n",
                            "      <td>0.932786</td>\n",
                            "    </tr>\n",
                            "    <tr>\n",
                            "      <th>3</th>\n",
                            "      <td>168868</td>\n",
                            "      <td>4</td>\n",
                            "      <td>71</td>\n",
                            "      <td>0.001824</td>\n",
                            "      <td>0.213252</td>\n",
                            "      <td>0.020473</td>\n",
                            "      <td>3</td>\n",
                            "      <td>293</td>\n",
                            "      <td>0.025926</td>\n",
                            "      <td>12.640803</td>\n",
                            "      <td>96.601997</td>\n",
                            "      <td>0.248542</td>\n",
                            "      <td>0.928884</td>\n",
                            "      <td>0.434955</td>\n",
                            "      <td>0.930939</td>\n",
                            "    </tr>\n",
                            "    <tr>\n",
                            "      <th>4</th>\n",
                            "      <td>168868</td>\n",
                            "      <td>5</td>\n",
                            "      <td>71</td>\n",
                            "      <td>0.001824</td>\n",
                            "      <td>0.213252</td>\n",
                            "      <td>0.020473</td>\n",
                            "      <td>3</td>\n",
                            "      <td>293</td>\n",
                            "      <td>0.025926</td>\n",
                            "      <td>17.290935</td>\n",
                            "      <td>96.721016</td>\n",
                            "      <td>0.208148</td>\n",
                            "      <td>0.932854</td>\n",
                            "      <td>0.410998</td>\n",
                            "      <td>0.929264</td>\n",
                            "    </tr>\n",
                            "    <tr>\n",
                            "      <th>...</th>\n",
                            "      <td>...</td>\n",
                            "      <td>...</td>\n",
                            "      <td>...</td>\n",
                            "      <td>...</td>\n",
                            "      <td>...</td>\n",
                            "      <td>...</td>\n",
                            "      <td>...</td>\n",
                            "      <td>...</td>\n",
                            "      <td>...</td>\n",
                            "      <td>...</td>\n",
                            "      <td>...</td>\n",
                            "      <td>...</td>\n",
                            "      <td>...</td>\n",
                            "      <td>...</td>\n",
                            "      <td>...</td>\n",
                            "    </tr>\n",
                            "    <tr>\n",
                            "      <th>3639995</th>\n",
                            "      <td>168331</td>\n",
                            "      <td>48</td>\n",
                            "      <td>57</td>\n",
                            "      <td>0.093697</td>\n",
                            "      <td>0.281682</td>\n",
                            "      <td>0.052186</td>\n",
                            "      <td>4</td>\n",
                            "      <td>408</td>\n",
                            "      <td>0.404549</td>\n",
                            "      <td>336.501526</td>\n",
                            "      <td>39.385712</td>\n",
                            "      <td>1.672090</td>\n",
                            "      <td>0.402051</td>\n",
                            "      <td>2.151607</td>\n",
                            "      <td>0.394071</td>\n",
                            "    </tr>\n",
                            "    <tr>\n",
                            "      <th>3639996</th>\n",
                            "      <td>168331</td>\n",
                            "      <td>49</td>\n",
                            "      <td>57</td>\n",
                            "      <td>0.093697</td>\n",
                            "      <td>0.281682</td>\n",
                            "      <td>0.052186</td>\n",
                            "      <td>4</td>\n",
                            "      <td>408</td>\n",
                            "      <td>0.404549</td>\n",
                            "      <td>346.371667</td>\n",
                            "      <td>39.354687</td>\n",
                            "      <td>1.673128</td>\n",
                            "      <td>0.398701</td>\n",
                            "      <td>2.152769</td>\n",
                            "      <td>0.395212</td>\n",
                            "    </tr>\n",
                            "    <tr>\n",
                            "      <th>3639997</th>\n",
                            "      <td>168331</td>\n",
                            "      <td>50</td>\n",
                            "      <td>57</td>\n",
                            "      <td>0.093697</td>\n",
                            "      <td>0.281682</td>\n",
                            "      <td>0.052186</td>\n",
                            "      <td>4</td>\n",
                            "      <td>408</td>\n",
                            "      <td>0.404549</td>\n",
                            "      <td>356.345553</td>\n",
                            "      <td>39.308151</td>\n",
                            "      <td>1.672856</td>\n",
                            "      <td>0.400183</td>\n",
                            "      <td>2.152560</td>\n",
                            "      <td>0.394068</td>\n",
                            "    </tr>\n",
                            "    <tr>\n",
                            "      <th>3639998</th>\n",
                            "      <td>168331</td>\n",
                            "      <td>51</td>\n",
                            "      <td>57</td>\n",
                            "      <td>0.093697</td>\n",
                            "      <td>0.281682</td>\n",
                            "      <td>0.052186</td>\n",
                            "      <td>4</td>\n",
                            "      <td>408</td>\n",
                            "      <td>0.404549</td>\n",
                            "      <td>366.155742</td>\n",
                            "      <td>39.300396</td>\n",
                            "      <td>1.672737</td>\n",
                            "      <td>0.400656</td>\n",
                            "      <td>2.152558</td>\n",
                            "      <td>0.393556</td>\n",
                            "    </tr>\n",
                            "    <tr>\n",
                            "      <th>3639999</th>\n",
                            "      <td>168331</td>\n",
                            "      <td>52</td>\n",
                            "      <td>57</td>\n",
                            "      <td>0.093697</td>\n",
                            "      <td>0.281682</td>\n",
                            "      <td>0.052186</td>\n",
                            "      <td>4</td>\n",
                            "      <td>408</td>\n",
                            "      <td>0.404549</td>\n",
                            "      <td>376.070106</td>\n",
                            "      <td>39.277126</td>\n",
                            "      <td>1.672853</td>\n",
                            "      <td>0.400220</td>\n",
                            "      <td>2.152586</td>\n",
                            "      <td>0.393956</td>\n",
                            "    </tr>\n",
                            "  </tbody>\n",
                            "</table>\n",
                            "<p>3640000 rows × 15 columns</p>\n",
                            "</div>"
                        ]
                    },
                    "metadata": {},
                    "execution_count": 13
                }
            ],
            "metadata": {}
        }
    ],
    "metadata": {
        "orig_nbformat": 4,
        "language_info": {
            "name": "python",
            "version": "3.9.5",
            "mimetype": "text/x-python",
            "codemirror_mode": {
                "name": "ipython",
                "version": 3
            },
            "pygments_lexer": "ipython3",
            "nbconvert_exporter": "python",
            "file_extension": ".py"
        },
        "kernelspec": {
            "name": "python3",
            "display_name": "Python 3.9.5 64-bit ('yahpo': conda)"
        },
        "interpreter": {
            "hash": "9506a27cd19bab90231c653dbdb6173feaea5008b53f9c3a9ea539bcb65e37c0"
        }
    },
    "nbformat": 4,
    "nbformat_minor": 2
}