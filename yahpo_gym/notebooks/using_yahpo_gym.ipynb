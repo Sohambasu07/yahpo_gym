{
 "cells": [
  {
   "cell_type": "markdown",
   "source": [
    "# Using YAHPO Gym: A quick introduction\r\n",
    "\r\n",
    "Using YAHPO GYM we can benchmark a new Hyperparameter optimization method on a large amount of problems in a very short time-frame.\r\n",
    "\r\n",
    "This tutorial walks us through the core concepts and functionality of ``yahpo_gym` and showscases a practical example.\r\n",
    "\r\n",
    "YAHPO GYM consists of several `scenarios`, e.g. the collection of all benchmark instances in `lcbench` is a `scenario`.\r\n",
    "An `instance` is the concrete task of optimizing hyperparameters of the neural network on a given dataset from OpenML.\r\n"
   ],
   "metadata": {}
  },
  {
   "cell_type": "markdown",
   "source": [
    "## Core functionality: Configuration & BenchmarkSet\r\n",
    "\r\n",
    "We first a have a brief look at at the two core classes we will make use of in `YAHPO GYM`: \r\n",
    "- A `Configuration` contains all relevant infos regarding a specific benchmarking scenario e.g. `lcbench`. We can load configurations with the `cfg(<key>)` shortcut.\r\n",
    "- A `BenchmarkSet` can be instantiated using a Configuration (or it's key) and contains the logic used to evaluate the surrogate model for a given query hyperparameter configuration (or set thereof).b"
   ],
   "metadata": {}
  },
  {
   "cell_type": "markdown",
   "source": [
    "\r\n",
    "To run a benchmark you need to download the ONNX model (`new_model.onnx`), [ConfigSpace](https://automl.github.io/ConfigSpace/) (`config_space.json`) and some encoding info (`encoding.json`).\r\n",
    "\r\n",
    "You can download these [here](https://syncandshare.lrz.de/getlink/fiCMkzqj1bv1LfCUyvZKmLvd/), but **YAHPO GYM** can also autmatically download this for you.\r\n",
    "\r\n",
    "You should pertain the folder structure as on the hosting site (i.e., create a `\"path-to-data\"` directory, for example named `\"multifidelity_data\"`, containing the individual, e.g., `\"lcench\"`, directories)."
   ],
   "metadata": {}
  },
  {
   "cell_type": "code",
   "execution_count": 12,
   "source": [
    "# Initialize the local config & set path for surrogates and metadata\r\n",
    "from yahpo_gym import local_config\r\n",
    "local_config.init_config()\r\n",
    "local_config.set_data_path(\"~/yahpo_models\")"
   ],
   "outputs": [],
   "metadata": {}
  },
  {
   "cell_type": "markdown",
   "source": [
    "### Configuration"
   ],
   "metadata": {}
  },
  {
   "cell_type": "code",
   "execution_count": 16,
   "source": [
    "# We first load the dict of configurations and the concrete benchmarks\r\n",
    "%load_ext autoreload\r\n",
    "%autoreload 2\r\n",
    "from yahpo_gym.configuration import cfg\r\n",
    "import yahpo_gym.benchmarks"
   ],
   "outputs": [
    {
     "output_type": "stream",
     "name": "stdout",
     "text": [
      "The autoreload extension is already loaded. To reload it, use:\n",
      "  %reload_ext autoreload\n"
     ]
    }
   ],
   "metadata": {}
  },
  {
   "cell_type": "code",
   "execution_count": 10,
   "source": [
    "# Now we can print a list of available configurations:\r\n",
    "print(cfg())"
   ],
   "outputs": [
    {
     "output_type": "stream",
     "name": "stdout",
     "text": [
      "Key             Instances  Cat. HP    Cont. HP   Targets   \n",
      "lcbench         OpenML_task_id  1          8          6         \n",
      "fcnet           task            4          8          3         \n",
      "nb301           CIFAR10         34         1          2         \n",
      "rbv2_svm        task_id         3          6          6         \n",
      "rbv2_ranger     task_id         4          7          6         \n",
      "rbv2_rpart      task_id         2          6          6         \n",
      "rbv2_glmnet     task_id         2          4          6         \n",
      "rbv2_xgboost    task_id         3          14         6         \n",
      "rbv2_aknn       task_id         3          6          6         \n",
      "rbv2_super      task_id         8          33         6         \n"
     ]
    }
   ],
   "metadata": {}
  },
  {
   "cell_type": "code",
   "execution_count": 18,
   "source": [
    "# And instantiate a Configuration using a key.\r\n",
    "conf_lcb = cfg('lcbench')"
   ],
   "outputs": [
    {
     "output_type": "error",
     "ename": "KeyError",
     "evalue": "'lcbench'",
     "traceback": [
      "\u001b[1;31m---------------------------------------------------------------------------\u001b[0m",
      "\u001b[1;31mKeyError\u001b[0m                                  Traceback (most recent call last)",
      "\u001b[1;32m<ipython-input-18-865cf15fca1d>\u001b[0m in \u001b[0;36m<module>\u001b[1;34m\u001b[0m\n\u001b[0;32m      1\u001b[0m \u001b[1;31m# And instantiate a Configuration using a key.\u001b[0m\u001b[1;33m\u001b[0m\u001b[1;33m\u001b[0m\u001b[1;33m\u001b[0m\u001b[0m\n\u001b[1;32m----> 2\u001b[1;33m \u001b[0mconf_lcb\u001b[0m \u001b[1;33m=\u001b[0m \u001b[0mcfg\u001b[0m\u001b[1;33m(\u001b[0m\u001b[1;34m'lcbench'\u001b[0m\u001b[1;33m)\u001b[0m\u001b[1;33m\u001b[0m\u001b[1;33m\u001b[0m\u001b[0m\n\u001b[0m",
      "\u001b[1;32mc:\\Users\\flo\\Documents\\yahpo_gym\\yahpo_gym\\yahpo_gym\\configuration.py\u001b[0m in \u001b[0;36mcfg\u001b[1;34m(key)\u001b[0m\n\u001b[0;32m    137\u001b[0m     \"\"\"\n\u001b[0;32m    138\u001b[0m     \u001b[1;32mif\u001b[0m \u001b[0mkey\u001b[0m \u001b[1;32mis\u001b[0m \u001b[1;32mnot\u001b[0m \u001b[1;32mNone\u001b[0m\u001b[1;33m:\u001b[0m\u001b[1;33m\u001b[0m\u001b[1;33m\u001b[0m\u001b[0m\n\u001b[1;32m--> 139\u001b[1;33m         \u001b[1;32mreturn\u001b[0m \u001b[0mconfig_dict\u001b[0m\u001b[1;33m.\u001b[0m\u001b[0mget_item\u001b[0m\u001b[1;33m(\u001b[0m\u001b[0mkey\u001b[0m\u001b[1;33m)\u001b[0m\u001b[1;33m\u001b[0m\u001b[1;33m\u001b[0m\u001b[0m\n\u001b[0m\u001b[0;32m    140\u001b[0m     \u001b[1;32melse\u001b[0m\u001b[1;33m:\u001b[0m\u001b[1;33m\u001b[0m\u001b[1;33m\u001b[0m\u001b[0m\n\u001b[0;32m    141\u001b[0m         \u001b[1;32mreturn\u001b[0m \u001b[0mconfig_dict\u001b[0m\u001b[1;33m\u001b[0m\u001b[1;33m\u001b[0m\u001b[0m\n",
      "\u001b[1;32mc:\\Users\\flo\\Documents\\yahpo_gym\\yahpo_gym\\yahpo_gym\\configuration.py\u001b[0m in \u001b[0;36mget_item\u001b[1;34m(self, key)\u001b[0m\n\u001b[0;32m    111\u001b[0m             \u001b[0mThe\u001b[0m \u001b[0mkey\u001b[0m \u001b[0mof\u001b[0m \u001b[0mthe\u001b[0m \u001b[0mconfiguration\u001b[0m \u001b[0mto\u001b[0m \u001b[0mretrieve\u001b[0m\u001b[1;33m\u001b[0m\u001b[1;33m\u001b[0m\u001b[0m\n\u001b[0;32m    112\u001b[0m         \"\"\"\n\u001b[1;32m--> 113\u001b[1;33m         \u001b[1;32mreturn\u001b[0m \u001b[0mConfiguration\u001b[0m\u001b[1;33m(\u001b[0m\u001b[0mself\u001b[0m\u001b[1;33m.\u001b[0m\u001b[0mconfigs\u001b[0m\u001b[1;33m[\u001b[0m\u001b[0mkey\u001b[0m\u001b[1;33m]\u001b[0m\u001b[1;33m)\u001b[0m\u001b[1;33m\u001b[0m\u001b[1;33m\u001b[0m\u001b[0m\n\u001b[0m\u001b[0;32m    114\u001b[0m \u001b[1;33m\u001b[0m\u001b[0m\n\u001b[0;32m    115\u001b[0m     \u001b[1;32mdef\u001b[0m \u001b[0m__repr__\u001b[0m\u001b[1;33m(\u001b[0m\u001b[0mself\u001b[0m\u001b[1;33m)\u001b[0m\u001b[1;33m:\u001b[0m\u001b[1;33m\u001b[0m\u001b[1;33m\u001b[0m\u001b[0m\n",
      "\u001b[1;31mKeyError\u001b[0m: 'lcbench'"
     ]
    }
   ],
   "metadata": {}
  },
  {
   "cell_type": "code",
   "execution_count": 17,
   "source": [
    "# We can download all required files using `download_files`.\r\n",
    "# Files will be downloaded to the data_path (\"~/yahpo_models\") set above.\r\n",
    "conf_lcb.download_files()"
   ],
   "outputs": [
    {
     "output_type": "stream",
     "name": "stdout",
     "text": [
      "https://syncandshare.lrz.de/getlink/fiCMkzqj1bv1LfCUyvZKmLvd/nb301/encoding.json\n"
     ]
    },
    {
     "output_type": "display_data",
     "data": {
      "text/html": [
       "\n",
       "    <div>\n",
       "        <style>\n",
       "            /* Turns off some styling */\n",
       "            progress {\n",
       "                /* gets rid of default border in Firefox and Opera. */\n",
       "                border: none;\n",
       "                /* Needs to be in here for Safari polyfill so background images work as expected. */\n",
       "                background-size: auto;\n",
       "            }\n",
       "            .progress-bar-interrupted, .progress-bar-interrupted::-webkit-progress-bar {\n",
       "                background: #F44336;\n",
       "            }\n",
       "        </style>\n",
       "      <progress value='16384' class='' max='15694' style='width:300px; height:20px; vertical-align: middle;'></progress>\n",
       "      104.40% [16384/15694 00:00<00:00]\n",
       "    </div>\n",
       "    "
      ],
      "text/plain": [
       "<IPython.core.display.HTML object>"
      ]
     },
     "metadata": {}
    },
    {
     "output_type": "stream",
     "name": "stdout",
     "text": [
      "https://syncandshare.lrz.de/getlink/fiCMkzqj1bv1LfCUyvZKmLvd/nb301/config_space.json\n"
     ]
    },
    {
     "output_type": "display_data",
     "data": {
      "text/html": [
       "\n",
       "    <div>\n",
       "        <style>\n",
       "            /* Turns off some styling */\n",
       "            progress {\n",
       "                /* gets rid of default border in Firefox and Opera. */\n",
       "                border: none;\n",
       "                /* Needs to be in here for Safari polyfill so background images work as expected. */\n",
       "                background-size: auto;\n",
       "            }\n",
       "            .progress-bar-interrupted, .progress-bar-interrupted::-webkit-progress-bar {\n",
       "                background: #F44336;\n",
       "            }\n",
       "        </style>\n",
       "      <progress value='16384' class='' max='15694' style='width:300px; height:20px; vertical-align: middle;'></progress>\n",
       "      104.40% [16384/15694 00:00<00:00]\n",
       "    </div>\n",
       "    "
      ],
      "text/plain": [
       "<IPython.core.display.HTML object>"
      ]
     },
     "metadata": {}
    },
    {
     "output_type": "stream",
     "name": "stdout",
     "text": [
      "https://syncandshare.lrz.de/getlink/fiCMkzqj1bv1LfCUyvZKmLvd/nb301/new_model.onnx\n"
     ]
    },
    {
     "output_type": "display_data",
     "data": {
      "text/html": [
       "\n",
       "    <div>\n",
       "        <style>\n",
       "            /* Turns off some styling */\n",
       "            progress {\n",
       "                /* gets rid of default border in Firefox and Opera. */\n",
       "                border: none;\n",
       "                /* Needs to be in here for Safari polyfill so background images work as expected. */\n",
       "                background-size: auto;\n",
       "            }\n",
       "            .progress-bar-interrupted, .progress-bar-interrupted::-webkit-progress-bar {\n",
       "                background: #F44336;\n",
       "            }\n",
       "        </style>\n",
       "      <progress value='16384' class='' max='15694' style='width:300px; height:20px; vertical-align: middle;'></progress>\n",
       "      104.40% [16384/15694 00:00<00:00]\n",
       "    </div>\n",
       "    "
      ],
      "text/plain": [
       "<IPython.core.display.HTML object>"
      ]
     },
     "metadata": {}
    }
   ],
   "metadata": {}
  },
  {
   "cell_type": "markdown",
   "source": [
    "This allows us to query several important properties of the benchmark problem:\r\n",
    "\r\n",
    "- config_id : The id / key of the configuration\r\n",
    "- y_names  : The names of the target variables included in the surrogate model\r\n",
    "- hp_names: The names of all hyperparameters\r\n",
    "- cat_names : The names of categorical hyperparameters\r\n",
    "- cont_names  :  The names of continuous hyperparameters\r\n",
    "- fidelity_params  : The name of the fidelity parameter(s)\r\n",
    "- instance_names : The column pertaining to the available instances in a dataset\r\n",
    "- runtime_name : The name of parameters remeasuring runtime of  the model. \r\n",
    "- data : A `pandas` `DataFrame` containing the data used to train the surrogates. Only available if the data was downloaded."
   ],
   "metadata": {}
  },
  {
   "cell_type": "code",
   "execution_count": 6,
   "source": [
    "# We can for example query the target outputs of our surrogate:\r\n",
    "conf_lcb.y_names"
   ],
   "outputs": [
    {
     "output_type": "execute_result",
     "data": {
      "text/plain": [
       "['time',\n",
       " 'val_accuracy',\n",
       " 'val_cross_entropy',\n",
       " 'val_balanced_accuracy',\n",
       " 'test_cross_entropy',\n",
       " 'test_balanced_accuracy']"
      ]
     },
     "metadata": {},
     "execution_count": 6
    }
   ],
   "metadata": {}
  },
  {
   "cell_type": "markdown",
   "source": [
    "### BemchmarkSet\r\n",
    "\r\n",
    "A benchmark set allows us to evaluate the surrogate models for a given configuration.\r\n",
    "We can instantiate them similarly to a `Configuration` using the **key**."
   ],
   "metadata": {}
  },
  {
   "cell_type": "code",
   "execution_count": 14,
   "source": [
    "from yahpo_gym import benchmark_set\r\n",
    "# Select a Benchmark\r\n",
    "bench = benchmark_set.BenchmarkSet(\"lcbench\")\r\n",
    "bench"
   ],
   "outputs": [
    {
     "output_type": "execute_result",
     "data": {
      "text/plain": [
       "BenchmarkInstance (lcbench)"
      ]
     },
     "metadata": {},
     "execution_count": 14
    }
   ],
   "metadata": {}
  },
  {
   "cell_type": "markdown",
   "source": [
    "This can again be used to query relevant meta-information:\r\n",
    "- instances: The available instances (in this case OpenML Task Id's)"
   ],
   "metadata": {}
  },
  {
   "cell_type": "code",
   "execution_count": 13,
   "source": [
    "# List available instances\r\n",
    "bench.instances[0:5]"
   ],
   "outputs": [
    {
     "output_type": "execute_result",
     "data": {
      "text/plain": [
       "['3945', '7593', '34539', '126025', '126026']"
      ]
     },
     "metadata": {},
     "execution_count": 13
    }
   ],
   "metadata": {}
  },
  {
   "cell_type": "markdown",
   "source": [
    "We can now set an instance, this defines the instance (i.e. concrete dataset) to be evaluated.\r\n",
    "We can furthermore use the included `ConfigSpace` in order to sample a concrete configuration and evaluate it: "
   ],
   "metadata": {}
  },
  {
   "cell_type": "code",
   "execution_count": 15,
   "source": [
    "# Set an instance\r\n",
    "bench.set_instance(\"3945\")\r\n",
    "# Sample a point from the configspace (containing parameters for the instance and budget)\r\n",
    "value = bench.config_space.sample_configuration(1).get_dictionary()\r\n",
    "# Evaluate\r\n",
    "print(bench.objective_function(value))"
   ],
   "outputs": [
    {
     "output_type": "error",
     "ename": "KeyError",
     "evalue": "'epoch'",
     "traceback": [
      "\u001b[1;31m---------------------------------------------------------------------------\u001b[0m",
      "\u001b[1;31mKeyError\u001b[0m                                  Traceback (most recent call last)",
      "\u001b[1;32m<ipython-input-15-94ddf0abf365>\u001b[0m in \u001b[0;36m<module>\u001b[1;34m\u001b[0m\n\u001b[0;32m      4\u001b[0m \u001b[0mvalue\u001b[0m \u001b[1;33m=\u001b[0m \u001b[0mbench\u001b[0m\u001b[1;33m.\u001b[0m\u001b[0mconfig_space\u001b[0m\u001b[1;33m.\u001b[0m\u001b[0msample_configuration\u001b[0m\u001b[1;33m(\u001b[0m\u001b[1;36m1\u001b[0m\u001b[1;33m)\u001b[0m\u001b[1;33m.\u001b[0m\u001b[0mget_dictionary\u001b[0m\u001b[1;33m(\u001b[0m\u001b[1;33m)\u001b[0m\u001b[1;33m\u001b[0m\u001b[1;33m\u001b[0m\u001b[0m\n\u001b[0;32m      5\u001b[0m \u001b[1;31m# Evaluate\u001b[0m\u001b[1;33m\u001b[0m\u001b[1;33m\u001b[0m\u001b[1;33m\u001b[0m\u001b[0m\n\u001b[1;32m----> 6\u001b[1;33m \u001b[0mprint\u001b[0m\u001b[1;33m(\u001b[0m\u001b[0mbench\u001b[0m\u001b[1;33m.\u001b[0m\u001b[0mobjective_function\u001b[0m\u001b[1;33m(\u001b[0m\u001b[0mvalue\u001b[0m\u001b[1;33m)\u001b[0m\u001b[1;33m)\u001b[0m\u001b[1;33m\u001b[0m\u001b[1;33m\u001b[0m\u001b[0m\n\u001b[0m",
      "\u001b[1;32mc:\\Users\\flo\\Documents\\yahpo_gym\\yahpo_gym\\yahpo_gym\\benchmark_set.py\u001b[0m in \u001b[0;36mobjective_function\u001b[1;34m(self, configuration)\u001b[0m\n\u001b[0;32m     33\u001b[0m         \u001b[1;32mif\u001b[0m \u001b[1;32mnot\u001b[0m \u001b[0mself\u001b[0m\u001b[1;33m.\u001b[0m\u001b[0mactive_session\u001b[0m\u001b[1;33m:\u001b[0m\u001b[1;33m\u001b[0m\u001b[1;33m\u001b[0m\u001b[0m\n\u001b[0;32m     34\u001b[0m             \u001b[0mself\u001b[0m\u001b[1;33m.\u001b[0m\u001b[0mset_session\u001b[0m\u001b[1;33m(\u001b[0m\u001b[1;33m)\u001b[0m\u001b[1;33m\u001b[0m\u001b[1;33m\u001b[0m\u001b[0m\n\u001b[1;32m---> 35\u001b[1;33m         \u001b[0mx_cont\u001b[0m\u001b[1;33m,\u001b[0m \u001b[0mx_cat\u001b[0m \u001b[1;33m=\u001b[0m \u001b[0mself\u001b[0m\u001b[1;33m.\u001b[0m\u001b[0m_config_to_xs\u001b[0m\u001b[1;33m(\u001b[0m\u001b[0mconfiguration\u001b[0m\u001b[1;33m)\u001b[0m\u001b[1;33m\u001b[0m\u001b[1;33m\u001b[0m\u001b[0m\n\u001b[0m\u001b[0;32m     36\u001b[0m         \u001b[1;31m# input & output names and dims\u001b[0m\u001b[1;33m\u001b[0m\u001b[1;33m\u001b[0m\u001b[1;33m\u001b[0m\u001b[0m\n\u001b[0;32m     37\u001b[0m         \u001b[0minput_names\u001b[0m \u001b[1;33m=\u001b[0m \u001b[1;33m[\u001b[0m\u001b[0mx\u001b[0m\u001b[1;33m.\u001b[0m\u001b[0mname\u001b[0m \u001b[1;32mfor\u001b[0m \u001b[0mx\u001b[0m \u001b[1;32min\u001b[0m \u001b[0mself\u001b[0m\u001b[1;33m.\u001b[0m\u001b[0msess\u001b[0m\u001b[1;33m.\u001b[0m\u001b[0mget_inputs\u001b[0m\u001b[1;33m(\u001b[0m\u001b[1;33m)\u001b[0m\u001b[1;33m]\u001b[0m\u001b[1;33m\u001b[0m\u001b[1;33m\u001b[0m\u001b[0m\n",
      "\u001b[1;32mc:\\Users\\flo\\Documents\\yahpo_gym\\yahpo_gym\\yahpo_gym\\benchmark_set.py\u001b[0m in \u001b[0;36m_config_to_xs\u001b[1;34m(self, configuration)\u001b[0m\n\u001b[0;32m     96\u001b[0m         \u001b[1;31m# FIXME: Check the configuration with the ConfigSpace\u001b[0m\u001b[1;33m\u001b[0m\u001b[1;33m\u001b[0m\u001b[1;33m\u001b[0m\u001b[0m\n\u001b[0;32m     97\u001b[0m         \u001b[0mx_cat\u001b[0m \u001b[1;33m=\u001b[0m \u001b[0mnp\u001b[0m\u001b[1;33m.\u001b[0m\u001b[0marray\u001b[0m\u001b[1;33m(\u001b[0m\u001b[1;33m[\u001b[0m\u001b[0mself\u001b[0m\u001b[1;33m.\u001b[0m\u001b[0m_integer_encode\u001b[0m\u001b[1;33m(\u001b[0m\u001b[0mconfiguration\u001b[0m\u001b[1;33m[\u001b[0m\u001b[0mx\u001b[0m\u001b[1;33m]\u001b[0m\u001b[1;33m,\u001b[0m \u001b[0mx\u001b[0m\u001b[1;33m)\u001b[0m \u001b[1;32mfor\u001b[0m \u001b[0mx\u001b[0m \u001b[1;32min\u001b[0m \u001b[0mself\u001b[0m\u001b[1;33m.\u001b[0m\u001b[0mconfig\u001b[0m\u001b[1;33m.\u001b[0m\u001b[0mcat_names\u001b[0m\u001b[1;33m]\u001b[0m\u001b[1;33m)\u001b[0m\u001b[1;33m.\u001b[0m\u001b[0mreshape\u001b[0m\u001b[1;33m(\u001b[0m\u001b[1;36m1\u001b[0m\u001b[1;33m,\u001b[0m \u001b[1;33m-\u001b[0m\u001b[1;36m1\u001b[0m\u001b[1;33m)\u001b[0m\u001b[1;33m.\u001b[0m\u001b[0mastype\u001b[0m\u001b[1;33m(\u001b[0m\u001b[0mnp\u001b[0m\u001b[1;33m.\u001b[0m\u001b[0mint32\u001b[0m\u001b[1;33m)\u001b[0m\u001b[1;33m\u001b[0m\u001b[1;33m\u001b[0m\u001b[0m\n\u001b[1;32m---> 98\u001b[1;33m         \u001b[0mx_cont\u001b[0m \u001b[1;33m=\u001b[0m \u001b[0mnp\u001b[0m\u001b[1;33m.\u001b[0m\u001b[0marray\u001b[0m\u001b[1;33m(\u001b[0m\u001b[1;33m[\u001b[0m\u001b[0mconfiguration\u001b[0m\u001b[1;33m[\u001b[0m\u001b[0mx\u001b[0m\u001b[1;33m]\u001b[0m \u001b[1;32mfor\u001b[0m \u001b[0mx\u001b[0m \u001b[1;32min\u001b[0m \u001b[0mself\u001b[0m\u001b[1;33m.\u001b[0m\u001b[0mconfig\u001b[0m\u001b[1;33m.\u001b[0m\u001b[0mcont_names\u001b[0m\u001b[1;33m]\u001b[0m\u001b[1;33m)\u001b[0m\u001b[1;33m.\u001b[0m\u001b[0mreshape\u001b[0m\u001b[1;33m(\u001b[0m\u001b[1;36m1\u001b[0m\u001b[1;33m,\u001b[0m \u001b[1;33m-\u001b[0m\u001b[1;36m1\u001b[0m\u001b[1;33m)\u001b[0m\u001b[1;33m.\u001b[0m\u001b[0mastype\u001b[0m\u001b[1;33m(\u001b[0m\u001b[0mnp\u001b[0m\u001b[1;33m.\u001b[0m\u001b[0mfloat32\u001b[0m\u001b[1;33m)\u001b[0m\u001b[1;33m\u001b[0m\u001b[1;33m\u001b[0m\u001b[0m\n\u001b[0m\u001b[0;32m     99\u001b[0m         \u001b[1;32mreturn\u001b[0m \u001b[0mx_cont\u001b[0m\u001b[1;33m,\u001b[0m \u001b[0mx_cat\u001b[0m\u001b[1;33m\u001b[0m\u001b[1;33m\u001b[0m\u001b[0m\n\u001b[0;32m    100\u001b[0m \u001b[1;33m\u001b[0m\u001b[0m\n",
      "\u001b[1;32mc:\\Users\\flo\\Documents\\yahpo_gym\\yahpo_gym\\yahpo_gym\\benchmark_set.py\u001b[0m in \u001b[0;36m<listcomp>\u001b[1;34m(.0)\u001b[0m\n\u001b[0;32m     96\u001b[0m         \u001b[1;31m# FIXME: Check the configuration with the ConfigSpace\u001b[0m\u001b[1;33m\u001b[0m\u001b[1;33m\u001b[0m\u001b[1;33m\u001b[0m\u001b[0m\n\u001b[0;32m     97\u001b[0m         \u001b[0mx_cat\u001b[0m \u001b[1;33m=\u001b[0m \u001b[0mnp\u001b[0m\u001b[1;33m.\u001b[0m\u001b[0marray\u001b[0m\u001b[1;33m(\u001b[0m\u001b[1;33m[\u001b[0m\u001b[0mself\u001b[0m\u001b[1;33m.\u001b[0m\u001b[0m_integer_encode\u001b[0m\u001b[1;33m(\u001b[0m\u001b[0mconfiguration\u001b[0m\u001b[1;33m[\u001b[0m\u001b[0mx\u001b[0m\u001b[1;33m]\u001b[0m\u001b[1;33m,\u001b[0m \u001b[0mx\u001b[0m\u001b[1;33m)\u001b[0m \u001b[1;32mfor\u001b[0m \u001b[0mx\u001b[0m \u001b[1;32min\u001b[0m \u001b[0mself\u001b[0m\u001b[1;33m.\u001b[0m\u001b[0mconfig\u001b[0m\u001b[1;33m.\u001b[0m\u001b[0mcat_names\u001b[0m\u001b[1;33m]\u001b[0m\u001b[1;33m)\u001b[0m\u001b[1;33m.\u001b[0m\u001b[0mreshape\u001b[0m\u001b[1;33m(\u001b[0m\u001b[1;36m1\u001b[0m\u001b[1;33m,\u001b[0m \u001b[1;33m-\u001b[0m\u001b[1;36m1\u001b[0m\u001b[1;33m)\u001b[0m\u001b[1;33m.\u001b[0m\u001b[0mastype\u001b[0m\u001b[1;33m(\u001b[0m\u001b[0mnp\u001b[0m\u001b[1;33m.\u001b[0m\u001b[0mint32\u001b[0m\u001b[1;33m)\u001b[0m\u001b[1;33m\u001b[0m\u001b[1;33m\u001b[0m\u001b[0m\n\u001b[1;32m---> 98\u001b[1;33m         \u001b[0mx_cont\u001b[0m \u001b[1;33m=\u001b[0m \u001b[0mnp\u001b[0m\u001b[1;33m.\u001b[0m\u001b[0marray\u001b[0m\u001b[1;33m(\u001b[0m\u001b[1;33m[\u001b[0m\u001b[0mconfiguration\u001b[0m\u001b[1;33m[\u001b[0m\u001b[0mx\u001b[0m\u001b[1;33m]\u001b[0m \u001b[1;32mfor\u001b[0m \u001b[0mx\u001b[0m \u001b[1;32min\u001b[0m \u001b[0mself\u001b[0m\u001b[1;33m.\u001b[0m\u001b[0mconfig\u001b[0m\u001b[1;33m.\u001b[0m\u001b[0mcont_names\u001b[0m\u001b[1;33m]\u001b[0m\u001b[1;33m)\u001b[0m\u001b[1;33m.\u001b[0m\u001b[0mreshape\u001b[0m\u001b[1;33m(\u001b[0m\u001b[1;36m1\u001b[0m\u001b[1;33m,\u001b[0m \u001b[1;33m-\u001b[0m\u001b[1;36m1\u001b[0m\u001b[1;33m)\u001b[0m\u001b[1;33m.\u001b[0m\u001b[0mastype\u001b[0m\u001b[1;33m(\u001b[0m\u001b[0mnp\u001b[0m\u001b[1;33m.\u001b[0m\u001b[0mfloat32\u001b[0m\u001b[1;33m)\u001b[0m\u001b[1;33m\u001b[0m\u001b[1;33m\u001b[0m\u001b[0m\n\u001b[0m\u001b[0;32m     99\u001b[0m         \u001b[1;32mreturn\u001b[0m \u001b[0mx_cont\u001b[0m\u001b[1;33m,\u001b[0m \u001b[0mx_cat\u001b[0m\u001b[1;33m\u001b[0m\u001b[1;33m\u001b[0m\u001b[0m\n\u001b[0;32m    100\u001b[0m \u001b[1;33m\u001b[0m\u001b[0m\n",
      "\u001b[1;31mKeyError\u001b[0m: 'epoch'"
     ]
    }
   ],
   "metadata": {}
  },
  {
   "cell_type": "code",
   "execution_count": 10,
   "source": [
    "value"
   ],
   "outputs": [
    {
     "output_type": "execute_result",
     "data": {
      "text/plain": [
       "{'OpenML_task_id': '3945',\n",
       " 'batch_size': 88,\n",
       " 'learning_rate': 0.04582276168555955,\n",
       " 'max_dropout': 0.9517771795844963,\n",
       " 'max_units': 130,\n",
       " 'momentum': 0.3123168995129313,\n",
       " 'num_layers': 5,\n",
       " 'weight_decay': 0.052344273752852236,\n",
       " 'epoch': 50}"
      ]
     },
     "metadata": {},
     "execution_count": 10
    }
   ],
   "metadata": {}
  },
  {
   "cell_type": "code",
   "execution_count": 16,
   "source": [
    "# And the corresponding space we optimize over.\r\n",
    "bench.get_opt_space(\"3945\")"
   ],
   "outputs": [
    {
     "output_type": "error",
     "ename": "ValueError",
     "evalue": "'epoch' is not in list",
     "traceback": [
      "\u001b[1;31m---------------------------------------------------------------------------\u001b[0m",
      "\u001b[1;31mValueError\u001b[0m                                Traceback (most recent call last)",
      "\u001b[1;32m<ipython-input-16-cfd8c2f99750>\u001b[0m in \u001b[0;36m<module>\u001b[1;34m\u001b[0m\n\u001b[0;32m      1\u001b[0m \u001b[1;31m# And the corresponding space we optimize over.\u001b[0m\u001b[1;33m\u001b[0m\u001b[1;33m\u001b[0m\u001b[1;33m\u001b[0m\u001b[0m\n\u001b[1;32m----> 2\u001b[1;33m \u001b[0mbench\u001b[0m\u001b[1;33m.\u001b[0m\u001b[0mget_opt_space\u001b[0m\u001b[1;33m(\u001b[0m\u001b[1;34m\"3945\"\u001b[0m\u001b[1;33m)\u001b[0m\u001b[1;33m\u001b[0m\u001b[1;33m\u001b[0m\u001b[0m\n\u001b[0m",
      "\u001b[1;32mc:\\Users\\flo\\Documents\\yahpo_gym\\yahpo_gym\\yahpo_gym\\benchmark_set.py\u001b[0m in \u001b[0;36mget_opt_space\u001b[1;34m(self, instance, drop_fidelity_params)\u001b[0m\n\u001b[0;32m     71\u001b[0m         \u001b[0mhps\u001b[0m\u001b[1;33m[\u001b[0m\u001b[0minstance_names_idx\u001b[0m\u001b[1;33m]\u001b[0m \u001b[1;33m=\u001b[0m \u001b[0mCSH\u001b[0m\u001b[1;33m.\u001b[0m\u001b[0mConstant\u001b[0m\u001b[1;33m(\u001b[0m\u001b[0mself\u001b[0m\u001b[1;33m.\u001b[0m\u001b[0mconfig\u001b[0m\u001b[1;33m.\u001b[0m\u001b[0minstance_names\u001b[0m\u001b[1;33m,\u001b[0m \u001b[0minstance\u001b[0m\u001b[1;33m)\u001b[0m\u001b[1;33m\u001b[0m\u001b[1;33m\u001b[0m\u001b[0m\n\u001b[0;32m     72\u001b[0m         \u001b[1;32mif\u001b[0m \u001b[0mdrop_fidelity_params\u001b[0m\u001b[1;33m:\u001b[0m\u001b[1;33m\u001b[0m\u001b[1;33m\u001b[0m\u001b[0m\n\u001b[1;32m---> 73\u001b[1;33m             \u001b[0mfidelity_params_idx\u001b[0m \u001b[1;33m=\u001b[0m \u001b[1;33m[\u001b[0m\u001b[0mself\u001b[0m\u001b[1;33m.\u001b[0m\u001b[0mconfig_space\u001b[0m\u001b[1;33m.\u001b[0m\u001b[0mget_hyperparameter_names\u001b[0m\u001b[1;33m(\u001b[0m\u001b[1;33m)\u001b[0m\u001b[1;33m.\u001b[0m\u001b[0mindex\u001b[0m\u001b[1;33m(\u001b[0m\u001b[0mfidelity_param\u001b[0m\u001b[1;33m)\u001b[0m \u001b[1;32mfor\u001b[0m \u001b[0mfidelity_param\u001b[0m \u001b[1;32min\u001b[0m \u001b[0mself\u001b[0m\u001b[1;33m.\u001b[0m\u001b[0mconfig\u001b[0m\u001b[1;33m.\u001b[0m\u001b[0mfidelity_params\u001b[0m\u001b[1;33m]\u001b[0m\u001b[1;33m\u001b[0m\u001b[1;33m\u001b[0m\u001b[0m\n\u001b[0m\u001b[0;32m     74\u001b[0m             \u001b[1;32mfor\u001b[0m \u001b[0midx\u001b[0m \u001b[1;32min\u001b[0m \u001b[0mfidelity_params_idx\u001b[0m\u001b[1;33m:\u001b[0m\u001b[1;33m\u001b[0m\u001b[1;33m\u001b[0m\u001b[0m\n\u001b[0;32m     75\u001b[0m                 \u001b[1;32mdel\u001b[0m \u001b[0mhps\u001b[0m\u001b[1;33m[\u001b[0m\u001b[0midx\u001b[0m\u001b[1;33m]\u001b[0m\u001b[1;33m\u001b[0m\u001b[1;33m\u001b[0m\u001b[0m\n",
      "\u001b[1;32mc:\\Users\\flo\\Documents\\yahpo_gym\\yahpo_gym\\yahpo_gym\\benchmark_set.py\u001b[0m in \u001b[0;36m<listcomp>\u001b[1;34m(.0)\u001b[0m\n\u001b[0;32m     71\u001b[0m         \u001b[0mhps\u001b[0m\u001b[1;33m[\u001b[0m\u001b[0minstance_names_idx\u001b[0m\u001b[1;33m]\u001b[0m \u001b[1;33m=\u001b[0m \u001b[0mCSH\u001b[0m\u001b[1;33m.\u001b[0m\u001b[0mConstant\u001b[0m\u001b[1;33m(\u001b[0m\u001b[0mself\u001b[0m\u001b[1;33m.\u001b[0m\u001b[0mconfig\u001b[0m\u001b[1;33m.\u001b[0m\u001b[0minstance_names\u001b[0m\u001b[1;33m,\u001b[0m \u001b[0minstance\u001b[0m\u001b[1;33m)\u001b[0m\u001b[1;33m\u001b[0m\u001b[1;33m\u001b[0m\u001b[0m\n\u001b[0;32m     72\u001b[0m         \u001b[1;32mif\u001b[0m \u001b[0mdrop_fidelity_params\u001b[0m\u001b[1;33m:\u001b[0m\u001b[1;33m\u001b[0m\u001b[1;33m\u001b[0m\u001b[0m\n\u001b[1;32m---> 73\u001b[1;33m             \u001b[0mfidelity_params_idx\u001b[0m \u001b[1;33m=\u001b[0m \u001b[1;33m[\u001b[0m\u001b[0mself\u001b[0m\u001b[1;33m.\u001b[0m\u001b[0mconfig_space\u001b[0m\u001b[1;33m.\u001b[0m\u001b[0mget_hyperparameter_names\u001b[0m\u001b[1;33m(\u001b[0m\u001b[1;33m)\u001b[0m\u001b[1;33m.\u001b[0m\u001b[0mindex\u001b[0m\u001b[1;33m(\u001b[0m\u001b[0mfidelity_param\u001b[0m\u001b[1;33m)\u001b[0m \u001b[1;32mfor\u001b[0m \u001b[0mfidelity_param\u001b[0m \u001b[1;32min\u001b[0m \u001b[0mself\u001b[0m\u001b[1;33m.\u001b[0m\u001b[0mconfig\u001b[0m\u001b[1;33m.\u001b[0m\u001b[0mfidelity_params\u001b[0m\u001b[1;33m]\u001b[0m\u001b[1;33m\u001b[0m\u001b[1;33m\u001b[0m\u001b[0m\n\u001b[0m\u001b[0;32m     74\u001b[0m             \u001b[1;32mfor\u001b[0m \u001b[0midx\u001b[0m \u001b[1;32min\u001b[0m \u001b[0mfidelity_params_idx\u001b[0m\u001b[1;33m:\u001b[0m\u001b[1;33m\u001b[0m\u001b[1;33m\u001b[0m\u001b[0m\n\u001b[0;32m     75\u001b[0m                 \u001b[1;32mdel\u001b[0m \u001b[0mhps\u001b[0m\u001b[1;33m[\u001b[0m\u001b[0midx\u001b[0m\u001b[1;33m]\u001b[0m\u001b[1;33m\u001b[0m\u001b[1;33m\u001b[0m\u001b[0m\n",
      "\u001b[1;31mValueError\u001b[0m: 'epoch' is not in list"
     ]
    }
   ],
   "metadata": {}
  },
  {
   "cell_type": "markdown",
   "source": [
    "## A working example\r\n",
    "\r\n",
    "In order to demonstrate using YAHPO Gym more in-depth we provide a full example benchmarking `HPBandSter` on an `lcbench` task.\r\n",
    "We again start by importing the relevant modules:"
   ],
   "metadata": {}
  },
  {
   "cell_type": "code",
   "execution_count": 11,
   "source": [
    "from yahpo_gym import benchmark_set\r\n",
    "import yahpo_gym.benchmarks.lcbench\r\n",
    "import time\r\n",
    "import numpy as np"
   ],
   "outputs": [],
   "metadata": {}
  },
  {
   "cell_type": "markdown",
   "source": [
    "Now we can define a worker class as required by `HPBandSter` that internally calls our `objective_function`."
   ],
   "metadata": {}
  },
  {
   "cell_type": "code",
   "execution_count": 16,
   "source": [
    "from hpbandster.core.worker import Worker\r\n",
    "import hpbandster.core.nameserver as hpns\r\n",
    "from hpbandster.optimizers import BOHB as BOHB\r\n",
    "\r\n",
    "class lcbench(Worker):\r\n",
    "\r\n",
    "    def __init__(self, *args, sleep_interval=0, **kwargs):\r\n",
    "        super().__init__(*args, **kwargs)\r\n",
    "        self.bench = bench\r\n",
    "        self.sleep_interval = sleep_interval\r\n",
    "\r\n",
    "    def compute(self, config, budget, **kwargs):\r\n",
    "        \"\"\"\r\n",
    "        Args:\r\n",
    "            config: dictionary containing the sampled configurations by the optimizer\r\n",
    "            budget: (float) amount of epochs the model can use to train\r\n",
    "\r\n",
    "        Returns:\r\n",
    "            dictionary with mandatory fields:\r\n",
    "                \"loss\" (scalar)\r\n",
    "                \"info\" (dict)\r\n",
    "        \"\"\"\r\n",
    "\r\n",
    "        config.update({\"epoch\": int(np.round(budget))})  # update epoch\r\n",
    "        result = bench.objective_function(config)  # evaluate\r\n",
    "\r\n",
    "        time.sleep(self.sleep_interval)\r\n",
    "\r\n",
    "        return({\r\n",
    "                    \"loss\": - result.get(\"val_accuracy\"),  # we want to maximize validation accuracy\r\n",
    "                    \"info\": \"empty\"\r\n",
    "                })\r\n",
    "    \r\n",
    "    @staticmethod\r\n",
    "    def get_configspace():\r\n",
    "        # sets OpenML_task_id constant to \"3945\" and removes the epoch fidelity parameter\r\n",
    "        cs = bench.get_opt_space(instance = \"3945\", drop_fidelity_params = False)\r\n",
    "        return(cs)"
   ],
   "outputs": [],
   "metadata": {}
  },
  {
   "cell_type": "markdown",
   "source": [
    "Using this worker class, we can now run the full benchmark:"
   ],
   "metadata": {}
  },
  {
   "cell_type": "code",
   "execution_count": 17,
   "source": [
    "bench = benchmark_set.BenchmarkSet(\"lcbench\")\r\n",
    "bench.set_instance(\"3945\")\r\n",
    "\r\n",
    "NS = hpns.NameServer(run_id=\"lcbench\", host=\"127.0.0.1\", port=None)\r\n",
    "NS.start()\r\n",
    "\r\n",
    "w = lcbench(sleep_interval=0, nameserver=\"127.0.0.1\", run_id =\"lcbench\")\r\n",
    "w.run(background=True)\r\n",
    "\r\n",
    "bohb = BOHB(configspace=w.get_configspace(),\r\n",
    "            run_id=\"lcbench\", nameserver=\"127.0.0.1\",\r\n",
    "            min_budget=1, max_budget=52)\r\n",
    "\r\n",
    "res = bohb.run(n_iterations=1)\r\n",
    "\r\n",
    "bohb.shutdown(shutdown_workers=True)\r\n",
    "NS.shutdown()"
   ],
   "outputs": [
    {
     "output_type": "stream",
     "name": "stderr",
     "text": [
      "17:18:55 wait_for_workers trying to get the condition\n",
      "17:18:55 WORKER: Connected to nameserver <Pyro4.core.Proxy at 0x16bf2209760; connected IPv4; for PYRO:Pyro.NameServer@127.0.0.1:9090>\n",
      "17:18:55 DISPATCHER: started the 'discover_worker' thread\n",
      "17:18:55 WORKER: No dispatcher found. Waiting for one to initiate contact.\n",
      "17:18:55 DISPATCHER: started the 'job_runner' thread\n",
      "17:18:55 WORKER: start listening for jobs\n",
      "17:18:55 DISPATCHER: Pyro daemon running on localhost:53284\n",
      "17:18:55 DISPATCHER: Starting worker discovery\n",
      "17:18:55 DISPATCHER: Found 1 potential workers, 0 currently in the pool.\n",
      "17:18:55 DISPATCHER: discovered new worker, hpbandster.run_lcbench.worker.DESKTOP-00DQIED.12320576\n",
      "17:18:55 HBMASTER: number of workers changed to 1\n",
      "17:18:55 Enough workers to start this run!\n",
      "17:18:55 DISPATCHER: jobs to submit = 0, number of idle workers = 1 -> waiting!\n",
      "17:18:55 adjust_queue_size: lock accquired\n",
      "17:18:55 HBMASTER: starting run at 1632496735.5811722\n",
      "17:18:55 HBMASTER: adjusted queue size to (0, 1)\n",
      "17:18:55 DISPATCHER: Finished worker discovery\n",
      "17:18:55 start sampling a new configuration.\n",
      "17:18:55 DISPATCHER: Trying to submit another job.\n",
      "17:18:55 done sampling a new configuration.\n",
      "17:18:55 DISPATCHER: jobs to submit = 0, number of idle workers = 1 -> waiting!\n",
      "17:18:55 HBMASTER: schedule new run for iteration 0\n",
      "17:18:55 HBMASTER: trying submitting job (0, 0, 0) to dispatcher\n",
      "17:18:55 HBMASTER: submitting job (0, 0, 0) to dispatcher\n",
      "17:18:55 DISPATCHER: trying to submit job (0, 0, 0)\n",
      "17:18:55 DISPATCHER: trying to notify the job_runner thread.\n",
      "17:18:55 HBMASTER: job (0, 0, 0) submitted to dispatcher\n",
      "17:18:55 DISPATCHER: Trying to submit another job.\n",
      "17:18:55 HBMASTER: running jobs: 1, queue sizes: (0, 1) -> wait\n",
      "17:18:55 DISPATCHER: starting job (0, 0, 0) on hpbandster.run_lcbench.worker.DESKTOP-00DQIED.12320576\n",
      "17:18:55 DISPATCHER: job (0, 0, 0) dispatched on hpbandster.run_lcbench.worker.DESKTOP-00DQIED.12320576\n",
      "17:18:55 WORKER: start processing job (0, 0, 0)\n",
      "17:18:55 DISPATCHER: jobs to submit = 0, number of idle workers = 0 -> waiting!\n",
      "17:18:55 WORKER: args: ()\n",
      "17:18:55 WORKER: kwargs: {'config': {'OpenML_task_id': '3945', 'batch_size': 399, 'learning_rate': 0.00013733455159950543, 'max_dropout': 0.6427480376779502, 'max_units': 77, 'momentum': 0.632046382786841, 'num_layers': 2, 'weight_decay': 0.06513724713906688}, 'budget': 1.9259259259259258, 'working_directory': '.'}\n",
      "17:18:55 WORKER: done with job (0, 0, 0), trying to register it.\n",
      "Exception in thread oneway-call:\n",
      "Traceback (most recent call last):\n",
      "  File \"C:\\Users\\flo\\AppData\\Local\\r-miniconda\\envs\\yahpo\\lib\\site-packages\\serpent.py\", line 495, in ser_default_class\n",
      "    value = obj.__getstate__()\n",
      "AttributeError: 'numpy.float32' object has no attribute '__getstate__'\n",
      "\n",
      "During handling of the above exception, another exception occurred:\n",
      "\n",
      "Traceback (most recent call last):\n",
      "  File \"C:\\Users\\flo\\AppData\\Local\\r-miniconda\\envs\\yahpo\\lib\\site-packages\\serpent.py\", line 507, in ser_default_class\n",
      "    value = dict(vars(obj))  # make sure we can serialize anything that resembles a dict\n",
      "TypeError: vars() argument must have __dict__ attribute\n",
      "\n",
      "During handling of the above exception, another exception occurred:\n",
      "\n",
      "Traceback (most recent call last):\n",
      "  File \"C:\\Users\\flo\\AppData\\Local\\r-miniconda\\envs\\yahpo\\lib\\threading.py\", line 954, in _bootstrap_inner\n",
      "    self.run()\n",
      "  File \"C:\\Users\\flo\\AppData\\Local\\r-miniconda\\envs\\yahpo\\lib\\site-packages\\Pyro4\\core.py\", line 1893, in run\n",
      "    super(_OnewayCallThread, self).run()\n",
      "  File \"C:\\Users\\flo\\AppData\\Local\\r-miniconda\\envs\\yahpo\\lib\\threading.py\", line 892, in run\n",
      "    self._target(*self._args, **self._kwargs)\n",
      "  File \"C:\\Users\\flo\\AppData\\Local\\r-miniconda\\envs\\yahpo\\lib\\site-packages\\hpbandster\\core\\worker.py\", line 215, in start_computation\n",
      "    callback.register_result(id, result)\n",
      "  File \"C:\\Users\\flo\\AppData\\Local\\r-miniconda\\envs\\yahpo\\lib\\site-packages\\Pyro4\\core.py\", line 185, in __call__\n",
      "    return self.__send(self.__name, args, kwargs)\n",
      "  File \"C:\\Users\\flo\\AppData\\Local\\r-miniconda\\envs\\yahpo\\lib\\site-packages\\Pyro4\\core.py\", line 437, in _pyroInvoke\n",
      "    data, compressed = serializer.serializeCall(objectId, methodname, vargs, kwargs, compress=config.COMPRESSION)\n",
      "  File \"C:\\Users\\flo\\AppData\\Local\\r-miniconda\\envs\\yahpo\\lib\\site-packages\\Pyro4\\util.py\", line 176, in serializeCall\n",
      "    data = self.dumpsCall(obj, method, vargs, kwargs)\n",
      "  File \"C:\\Users\\flo\\AppData\\Local\\r-miniconda\\envs\\yahpo\\lib\\site-packages\\Pyro4\\util.py\", line 602, in dumpsCall\n",
      "    return serpent.dumps((obj, method, vargs, kwargs), module_in_classname=True)\n",
      "  File \"C:\\Users\\flo\\AppData\\Local\\r-miniconda\\envs\\yahpo\\lib\\site-packages\\serpent.py\", line 69, in dumps\n",
      "    return Serializer(indent, module_in_classname, bytes_repr).serialize(obj)\n",
      "  File \"C:\\Users\\flo\\AppData\\Local\\r-miniconda\\envs\\yahpo\\lib\\site-packages\\serpent.py\", line 229, in serialize\n",
      "    self._serialize(obj, out, 0)\n",
      "  File \"C:\\Users\\flo\\AppData\\Local\\r-miniconda\\envs\\yahpo\\lib\\site-packages\\serpent.py\", line 255, in _serialize\n",
      "    return self.dispatch[t](self, obj, out, level)\n",
      "  File \"C:\\Users\\flo\\AppData\\Local\\r-miniconda\\envs\\yahpo\\lib\\site-packages\\serpent.py\", line 319, in ser_builtins_tuple\n",
      "    serialize(elt, out, level + 1)\n",
      "  File \"C:\\Users\\flo\\AppData\\Local\\r-miniconda\\envs\\yahpo\\lib\\site-packages\\serpent.py\", line 255, in _serialize\n",
      "    return self.dispatch[t](self, obj, out, level)\n",
      "  File \"C:\\Users\\flo\\AppData\\Local\\r-miniconda\\envs\\yahpo\\lib\\site-packages\\serpent.py\", line 319, in ser_builtins_tuple\n",
      "    serialize(elt, out, level + 1)\n",
      "  File \"C:\\Users\\flo\\AppData\\Local\\r-miniconda\\envs\\yahpo\\lib\\site-packages\\serpent.py\", line 255, in _serialize\n",
      "    return self.dispatch[t](self, obj, out, level)\n",
      "  File \"C:\\Users\\flo\\AppData\\Local\\r-miniconda\\envs\\yahpo\\lib\\site-packages\\serpent.py\", line 392, in ser_builtins_dict\n",
      "    serialize(value, out, level + 1)\n",
      "  File \"C:\\Users\\flo\\AppData\\Local\\r-miniconda\\envs\\yahpo\\lib\\site-packages\\serpent.py\", line 255, in _serialize\n",
      "    return self.dispatch[t](self, obj, out, level)\n",
      "  File \"C:\\Users\\flo\\AppData\\Local\\r-miniconda\\envs\\yahpo\\lib\\site-packages\\serpent.py\", line 392, in ser_builtins_dict\n",
      "    serialize(value, out, level + 1)\n",
      "  File \"C:\\Users\\flo\\AppData\\Local\\r-miniconda\\envs\\yahpo\\lib\\site-packages\\serpent.py\", line 274, in _serialize\n",
      "    func(self, obj, out, level)\n",
      "  File \"C:\\Users\\flo\\AppData\\Local\\r-miniconda\\envs\\yahpo\\lib\\site-packages\\serpent.py\", line 517, in ser_default_class\n",
      "    raise TypeError(\"don't know how to serialize class \" +\n",
      "TypeError: don't know how to serialize class <class 'numpy.float32'>. Give it vars() or an appropriate __getstate__\n",
      "17:19:55 DISPATCHER: Starting worker discovery\n",
      "17:19:55 DISPATCHER: Found 1 potential workers, 1 currently in the pool.\n",
      "17:19:55 DISPATCHER: Finished worker discovery\n",
      "17:20:55 DISPATCHER: Starting worker discovery\n",
      "17:20:55 DISPATCHER: Found 1 potential workers, 1 currently in the pool.\n",
      "17:20:55 DISPATCHER: Finished worker discovery\n",
      "17:21:55 DISPATCHER: Starting worker discovery\n",
      "17:21:55 DISPATCHER: Found 1 potential workers, 1 currently in the pool.\n",
      "17:21:55 DISPATCHER: Finished worker discovery\n",
      "17:22:55 DISPATCHER: Starting worker discovery\n",
      "17:22:55 DISPATCHER: Found 1 potential workers, 1 currently in the pool.\n",
      "17:22:55 DISPATCHER: Finished worker discovery\n",
      "17:23:55 DISPATCHER: Starting worker discovery\n",
      "17:23:55 DISPATCHER: Found 1 potential workers, 1 currently in the pool.\n",
      "17:23:55 DISPATCHER: Finished worker discovery\n",
      "17:24:55 DISPATCHER: Starting worker discovery\n",
      "17:24:55 DISPATCHER: Found 1 potential workers, 1 currently in the pool.\n",
      "17:24:55 DISPATCHER: Finished worker discovery\n"
     ]
    }
   ],
   "metadata": {}
  },
  {
   "cell_type": "markdown",
   "source": [
    "and print the results"
   ],
   "metadata": {}
  },
  {
   "cell_type": "code",
   "execution_count": null,
   "source": [
    "id2config = res.get_id2config_mapping()\r\n",
    "id2config"
   ],
   "outputs": [],
   "metadata": {}
  },
  {
   "cell_type": "code",
   "execution_count": null,
   "source": [
    "incumbent = res.get_incumbent_id()\r\n",
    "incumbent"
   ],
   "outputs": [],
   "metadata": {}
  },
  {
   "cell_type": "code",
   "execution_count": null,
   "source": [
    "\r\n",
    "print(\"Best found configuration:\", id2config[incumbent][\"config\"])\r\n",
    "print(\"A total of %i unique configurations where sampled.\" % len(id2config.keys()))\r\n",
    "print(\"A total of %i runs where executed.\" % len(res.get_all_runs()))\r\n",
    "print(\"Total budget corresponds to %.1f full function evaluations.\"%(sum([r.budget for r in res.get_all_runs()])/1))"
   ],
   "outputs": [],
   "metadata": {}
  }
 ],
 "metadata": {
  "orig_nbformat": 4,
  "language_info": {
   "name": "python",
   "version": "3.9.5",
   "mimetype": "text/x-python",
   "codemirror_mode": {
    "name": "ipython",
    "version": 3
   },
   "pygments_lexer": "ipython3",
   "nbconvert_exporter": "python",
   "file_extension": ".py"
  },
  "kernelspec": {
   "name": "python3",
   "display_name": "Python 3.9.5 64-bit (conda)"
  },
  "interpreter": {
   "hash": "935079f3ab4b06ec76910fd5af9cfadee87e8a756fe17d7789065f69c1782d29"
  }
 },
 "nbformat": 4,
 "nbformat_minor": 2
}