{
    "cells": [
        {
            "cell_type": "code",
            "execution_count": null,
            "source": [
                "%load_ext autoreload\r\n",
                "%autoreload 2\r\n",
                "from yahpo_train.cont_normalization import ContNormalization\r\n",
                "from yahpo_train.model  import *\r\n",
                "from yahpo_train.metrics import *\r\n",
                "from yahpo_train.cont_scalers import *\r\n",
                "from yahpo_gym.benchmarks import lcbench, rbv2, nasbench_301\r\n",
                "from yahpo_gym.configuration import cfg\r\n",
                "from functools import partial\r\n",
                "\r\n",
                "cc = cfg('nb301')\r\n",
                "dls = dl_from_config(cc, bs=2048)"
            ],
            "outputs": [],
            "metadata": {}
        }
    ],
    "metadata": {
        "orig_nbformat": 4,
        "language_info": {
            "name": "python",
            "version": "3.9.5"
        },
        "kernelspec": {
            "name": "python3",
            "display_name": "Python 3.9.5 64-bit (conda)"
        },
        "interpreter": {
            "hash": "935079f3ab4b06ec76910fd5af9cfadee87e8a756fe17d7789065f69c1782d29"
        }
    },
    "nbformat": 4,
    "nbformat_minor": 2
}